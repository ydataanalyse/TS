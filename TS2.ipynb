{
 "cells": [
  {
   "cell_type": "code",
   "execution_count": 97,
   "id": "de86684f-229e-48f8-90b8-32af8c1431cf",
   "metadata": {},
   "outputs": [
    {
     "data": {
      "text/html": [
       "<div>\n",
       "<style scoped>\n",
       "    .dataframe tbody tr th:only-of-type {\n",
       "        vertical-align: middle;\n",
       "    }\n",
       "\n",
       "    .dataframe tbody tr th {\n",
       "        vertical-align: top;\n",
       "    }\n",
       "\n",
       "    .dataframe thead th {\n",
       "        text-align: right;\n",
       "    }\n",
       "</style>\n",
       "<table border=\"1\" class=\"dataframe\">\n",
       "  <thead>\n",
       "    <tr style=\"text-align: right;\">\n",
       "      <th></th>\n",
       "      <th>ID_Client</th>\n",
       "      <th>Genre</th>\n",
       "      <th>Âge</th>\n",
       "      <th>Revenu_annuel</th>\n",
       "      <th>Score_depenses</th>\n",
       "      <th>Profession</th>\n",
       "      <th>Experience_travail</th>\n",
       "      <th>Taille_famille</th>\n",
       "      <th>cluster</th>\n",
       "    </tr>\n",
       "  </thead>\n",
       "  <tbody>\n",
       "    <tr>\n",
       "      <th>0</th>\n",
       "      <td>1</td>\n",
       "      <td>Male</td>\n",
       "      <td>19</td>\n",
       "      <td>8439.03120</td>\n",
       "      <td>39</td>\n",
       "      <td>Healthcare</td>\n",
       "      <td>1</td>\n",
       "      <td>4</td>\n",
       "      <td>4</td>\n",
       "    </tr>\n",
       "    <tr>\n",
       "      <th>1</th>\n",
       "      <td>2</td>\n",
       "      <td>Male</td>\n",
       "      <td>21</td>\n",
       "      <td>19691.07280</td>\n",
       "      <td>81</td>\n",
       "      <td>Engineer</td>\n",
       "      <td>3</td>\n",
       "      <td>3</td>\n",
       "      <td>4</td>\n",
       "    </tr>\n",
       "    <tr>\n",
       "      <th>2</th>\n",
       "      <td>3</td>\n",
       "      <td>Female</td>\n",
       "      <td>20</td>\n",
       "      <td>48383.77888</td>\n",
       "      <td>6</td>\n",
       "      <td>Engineer</td>\n",
       "      <td>1</td>\n",
       "      <td>1</td>\n",
       "      <td>1</td>\n",
       "    </tr>\n",
       "    <tr>\n",
       "      <th>3</th>\n",
       "      <td>4</td>\n",
       "      <td>Female</td>\n",
       "      <td>23</td>\n",
       "      <td>33193.52272</td>\n",
       "      <td>77</td>\n",
       "      <td>Lawyer</td>\n",
       "      <td>0</td>\n",
       "      <td>2</td>\n",
       "      <td>2</td>\n",
       "    </tr>\n",
       "    <tr>\n",
       "      <th>4</th>\n",
       "      <td>5</td>\n",
       "      <td>Female</td>\n",
       "      <td>31</td>\n",
       "      <td>21378.87904</td>\n",
       "      <td>40</td>\n",
       "      <td>Entertainment</td>\n",
       "      <td>2</td>\n",
       "      <td>6</td>\n",
       "      <td>4</td>\n",
       "    </tr>\n",
       "  </tbody>\n",
       "</table>\n",
       "</div>"
      ],
      "text/plain": [
       "   ID_Client   Genre  Âge  Revenu_annuel  Score_depenses     Profession  \\\n",
       "0          1    Male   19     8439.03120              39     Healthcare   \n",
       "1          2    Male   21    19691.07280              81       Engineer   \n",
       "2          3  Female   20    48383.77888               6       Engineer   \n",
       "3          4  Female   23    33193.52272              77         Lawyer   \n",
       "4          5  Female   31    21378.87904              40  Entertainment   \n",
       "\n",
       "   Experience_travail  Taille_famille  cluster  \n",
       "0                   1               4        4  \n",
       "1                   3               3        4  \n",
       "2                   1               1        1  \n",
       "3                   0               2        2  \n",
       "4                   2               6        4  "
      ]
     },
     "execution_count": 97,
     "metadata": {},
     "output_type": "execute_result"
    }
   ],
   "source": [
    "import pandas as pd\n",
    "\n",
    "# Charger le fichier 'clients_clusters.csv'\n",
    "df_clusters = pd.read_csv('Documents/TSclients_clusters.csv')\n",
    "df_clusters.head()"
   ]
  },
  {
   "cell_type": "code",
   "execution_count": 98,
   "id": "200abe46-0e46-43df-9993-23bcf7fbabf0",
   "metadata": {},
   "outputs": [
    {
     "data": {
      "text/html": [
       "<div>\n",
       "<style scoped>\n",
       "    .dataframe tbody tr th:only-of-type {\n",
       "        vertical-align: middle;\n",
       "    }\n",
       "\n",
       "    .dataframe tbody tr th {\n",
       "        vertical-align: top;\n",
       "    }\n",
       "\n",
       "    .dataframe thead th {\n",
       "        text-align: right;\n",
       "    }\n",
       "</style>\n",
       "<table border=\"1\" class=\"dataframe\">\n",
       "  <thead>\n",
       "    <tr style=\"text-align: right;\">\n",
       "      <th></th>\n",
       "      <th>Genre</th>\n",
       "      <th>Âge</th>\n",
       "      <th>Revenu_annuel</th>\n",
       "      <th>Score_depenses</th>\n",
       "      <th>Profession</th>\n",
       "      <th>Experience_travail</th>\n",
       "      <th>Taille_famille</th>\n",
       "      <th>cluster</th>\n",
       "    </tr>\n",
       "  </thead>\n",
       "  <tbody>\n",
       "    <tr>\n",
       "      <th>0</th>\n",
       "      <td>Male</td>\n",
       "      <td>19</td>\n",
       "      <td>8439.03120</td>\n",
       "      <td>39</td>\n",
       "      <td>Healthcare</td>\n",
       "      <td>1</td>\n",
       "      <td>4</td>\n",
       "      <td>4</td>\n",
       "    </tr>\n",
       "    <tr>\n",
       "      <th>1</th>\n",
       "      <td>Male</td>\n",
       "      <td>21</td>\n",
       "      <td>19691.07280</td>\n",
       "      <td>81</td>\n",
       "      <td>Engineer</td>\n",
       "      <td>3</td>\n",
       "      <td>3</td>\n",
       "      <td>4</td>\n",
       "    </tr>\n",
       "    <tr>\n",
       "      <th>2</th>\n",
       "      <td>Female</td>\n",
       "      <td>20</td>\n",
       "      <td>48383.77888</td>\n",
       "      <td>6</td>\n",
       "      <td>Engineer</td>\n",
       "      <td>1</td>\n",
       "      <td>1</td>\n",
       "      <td>1</td>\n",
       "    </tr>\n",
       "    <tr>\n",
       "      <th>3</th>\n",
       "      <td>Female</td>\n",
       "      <td>23</td>\n",
       "      <td>33193.52272</td>\n",
       "      <td>77</td>\n",
       "      <td>Lawyer</td>\n",
       "      <td>0</td>\n",
       "      <td>2</td>\n",
       "      <td>2</td>\n",
       "    </tr>\n",
       "    <tr>\n",
       "      <th>4</th>\n",
       "      <td>Female</td>\n",
       "      <td>31</td>\n",
       "      <td>21378.87904</td>\n",
       "      <td>40</td>\n",
       "      <td>Entertainment</td>\n",
       "      <td>2</td>\n",
       "      <td>6</td>\n",
       "      <td>4</td>\n",
       "    </tr>\n",
       "  </tbody>\n",
       "</table>\n",
       "</div>"
      ],
      "text/plain": [
       "    Genre  Âge  Revenu_annuel  Score_depenses     Profession  \\\n",
       "0    Male   19     8439.03120              39     Healthcare   \n",
       "1    Male   21    19691.07280              81       Engineer   \n",
       "2  Female   20    48383.77888               6       Engineer   \n",
       "3  Female   23    33193.52272              77         Lawyer   \n",
       "4  Female   31    21378.87904              40  Entertainment   \n",
       "\n",
       "   Experience_travail  Taille_famille  cluster  \n",
       "0                   1               4        4  \n",
       "1                   3               3        4  \n",
       "2                   1               1        1  \n",
       "3                   0               2        2  \n",
       "4                   2               6        4  "
      ]
     },
     "execution_count": 98,
     "metadata": {},
     "output_type": "execute_result"
    }
   ],
   "source": [
    "#df1_clusters = df_clusters.drop('Unnamed: 0', axis=1)\n",
    "df1_clusters.head()"
   ]
  },
  {
   "cell_type": "code",
   "execution_count": 63,
   "id": "8eb05f3d-dde5-4a24-acbe-96796d5cba68",
   "metadata": {},
   "outputs": [],
   "source": [
    "#df1_clusters.to_csv('TSclients_clusters.csv',index=False)"
   ]
  },
  {
   "cell_type": "code",
   "execution_count": 64,
   "id": "0fb34007-2bc0-43c2-9252-aabcddc44d93",
   "metadata": {},
   "outputs": [
    {
     "name": "stdout",
     "output_type": "stream",
     "text": [
      "<class 'pandas.core.frame.DataFrame'>\n",
      "RangeIndex: 1965 entries, 0 to 1964\n",
      "Data columns (total 9 columns):\n",
      " #   Column              Non-Null Count  Dtype  \n",
      "---  ------              --------------  -----  \n",
      " 0   ID_Client           1965 non-null   int64  \n",
      " 1   Genre               1965 non-null   object \n",
      " 2   Âge                 1965 non-null   int64  \n",
      " 3   Revenu_annuel       1965 non-null   float64\n",
      " 4   Score_depenses      1965 non-null   int64  \n",
      " 5   Profession          1965 non-null   object \n",
      " 6   Experience_travail  1965 non-null   int64  \n",
      " 7   Taille_famille      1965 non-null   int64  \n",
      " 8   cluster             1965 non-null   int64  \n",
      "dtypes: float64(1), int64(6), object(2)\n",
      "memory usage: 138.3+ KB\n"
     ]
    }
   ],
   "source": [
    "df1_clusters.info()"
   ]
  },
  {
   "cell_type": "code",
   "execution_count": 65,
   "id": "89073661-d2f8-4d9d-92f9-bb4fffd7695b",
   "metadata": {},
   "outputs": [
    {
     "name": "stdout",
     "output_type": "stream",
     "text": [
      "               Âge  Revenu_annuel  Score_depenses  Experience_travail  \\\n",
      "cluster                                                                 \n",
      "0        48.459459   97405.583077       51.395577            4.422604   \n",
      "1        50.896552   56126.274470       51.350913            4.152130   \n",
      "2        47.950820   37029.582346       49.434426            3.844262   \n",
      "3        49.435449   77526.897784       52.663020            4.264770   \n",
      "4        43.925000   12274.102045       49.541667            3.083333   \n",
      "\n",
      "         Taille_famille  \n",
      "cluster                  \n",
      "0              3.796069  \n",
      "1              3.782961  \n",
      "2              3.670082  \n",
      "3              4.032823  \n",
      "4              2.825000  \n"
     ]
    }
   ],
   "source": [
    "# Supprimer la colonne ID_Client\n",
    "df1_clusters = df1_clusters.drop(columns=['ID_Client'])\n",
    "\n",
    "# Regrouper les clients par cluster et calculer les moyennes de chaque caractéristique pour chaque cluster\n",
    "df_means = df1_clusters.groupby('cluster').mean()\n",
    "\n",
    "# Analyser les moyennes de chaque cluster pour identifier les caractéristiques communes de chaque segment de clientèle\n",
    "print(df_means)"
   ]
  },
  {
   "cell_type": "code",
   "execution_count": 66,
   "id": "ad8e2acc-d95d-4bd5-a0f7-2f3a7ed69e73",
   "metadata": {},
   "outputs": [
    {
     "data": {
      "text/html": [
       "<div>\n",
       "<style scoped>\n",
       "    .dataframe tbody tr th:only-of-type {\n",
       "        vertical-align: middle;\n",
       "    }\n",
       "\n",
       "    .dataframe tbody tr th {\n",
       "        vertical-align: top;\n",
       "    }\n",
       "\n",
       "    .dataframe thead th {\n",
       "        text-align: right;\n",
       "    }\n",
       "</style>\n",
       "<table border=\"1\" class=\"dataframe\">\n",
       "  <thead>\n",
       "    <tr style=\"text-align: right;\">\n",
       "      <th></th>\n",
       "      <th>Âge</th>\n",
       "      <th>Revenu_annuel</th>\n",
       "      <th>Score_depenses</th>\n",
       "      <th>Experience_travail</th>\n",
       "      <th>Taille_famille</th>\n",
       "    </tr>\n",
       "    <tr>\n",
       "      <th>cluster</th>\n",
       "      <th></th>\n",
       "      <th></th>\n",
       "      <th></th>\n",
       "      <th></th>\n",
       "      <th></th>\n",
       "    </tr>\n",
       "  </thead>\n",
       "  <tbody>\n",
       "    <tr>\n",
       "      <th>0</th>\n",
       "      <td>48.459459</td>\n",
       "      <td>97405.583077</td>\n",
       "      <td>51.395577</td>\n",
       "      <td>4.422604</td>\n",
       "      <td>3.796069</td>\n",
       "    </tr>\n",
       "    <tr>\n",
       "      <th>1</th>\n",
       "      <td>50.896552</td>\n",
       "      <td>56126.274470</td>\n",
       "      <td>51.350913</td>\n",
       "      <td>4.152130</td>\n",
       "      <td>3.782961</td>\n",
       "    </tr>\n",
       "    <tr>\n",
       "      <th>2</th>\n",
       "      <td>47.950820</td>\n",
       "      <td>37029.582346</td>\n",
       "      <td>49.434426</td>\n",
       "      <td>3.844262</td>\n",
       "      <td>3.670082</td>\n",
       "    </tr>\n",
       "    <tr>\n",
       "      <th>3</th>\n",
       "      <td>49.435449</td>\n",
       "      <td>77526.897784</td>\n",
       "      <td>52.663020</td>\n",
       "      <td>4.264770</td>\n",
       "      <td>4.032823</td>\n",
       "    </tr>\n",
       "    <tr>\n",
       "      <th>4</th>\n",
       "      <td>43.925000</td>\n",
       "      <td>12274.102045</td>\n",
       "      <td>49.541667</td>\n",
       "      <td>3.083333</td>\n",
       "      <td>2.825000</td>\n",
       "    </tr>\n",
       "  </tbody>\n",
       "</table>\n",
       "</div>"
      ],
      "text/plain": [
       "               Âge  Revenu_annuel  Score_depenses  Experience_travail  \\\n",
       "cluster                                                                 \n",
       "0        48.459459   97405.583077       51.395577            4.422604   \n",
       "1        50.896552   56126.274470       51.350913            4.152130   \n",
       "2        47.950820   37029.582346       49.434426            3.844262   \n",
       "3        49.435449   77526.897784       52.663020            4.264770   \n",
       "4        43.925000   12274.102045       49.541667            3.083333   \n",
       "\n",
       "         Taille_famille  \n",
       "cluster                  \n",
       "0              3.796069  \n",
       "1              3.782961  \n",
       "2              3.670082  \n",
       "3              4.032823  \n",
       "4              2.825000  "
      ]
     },
     "execution_count": 66,
     "metadata": {},
     "output_type": "execute_result"
    }
   ],
   "source": [
    "df_means.head()"
   ]
  },
  {
   "cell_type": "code",
   "execution_count": 67,
   "id": "004cb569-4475-4505-bbfd-460da1e758cd",
   "metadata": {},
   "outputs": [],
   "source": [
    "#df_means.to_csv('df_means.csv',index=False)"
   ]
  },
  {
   "cell_type": "code",
   "execution_count": 68,
   "id": "db13fcfa-3540-48f5-b3dd-5222b56f0017",
   "metadata": {},
   "outputs": [
    {
     "data": {
      "image/png": "[encoded data removed]",
      "text/plain": [
       "<Figure size 576x432 with 1 Axes>"
      ]
     },
     "metadata": {
      "needs_background": "light"
     },
     "output_type": "display_data"
    },
    {
     "data": {
      "image/png": "[encoded data removed]",
      "text/plain": [
       "<Figure size 576x432 with 1 Axes>"
      ]
     },
     "metadata": {
      "needs_background": "light"
     },
     "output_type": "display_data"
    },
    {
     "data": {
      "image/png": "[encoded data removed]",
      "text/plain": [
       "<Figure size 576x432 with 1 Axes>"
      ]
     },
     "metadata": {
      "needs_background": "light"
     },
     "output_type": "display_data"
    },
    {
     "data": {
      "image/png": "[encoded data removed]",
      "text/plain": [
       "<Figure size 576x432 with 1 Axes>"
      ]
     },
     "metadata": {
      "needs_background": "light"
     },
     "output_type": "display_data"
    },
    {
     "data": {
      "image/png": "[encoded data removed]",
      "text/plain": [
       "<Figure size 576x432 with 1 Axes>"
      ]
     },
     "metadata": {
      "needs_background": "light"
     },
     "output_type": "display_data"
    }
   ],
   "source": [
    "#graphique à barres pour chaque caractéristique (Âge, Revenu_annuel, etc.), montrant les moyennes pour chaque segment de clientèle (Cluster 0, Cluster 1, etc.).\n",
    "\n",
    "import matplotlib.pyplot as plt\n",
    "\n",
    "# Créer une liste des caractéristiques à inclure dans le graphique\n",
    "caracteristiques = ['Âge', 'Revenu_annuel', 'Score_depenses', 'Experience_travail', 'Taille_famille']\n",
    "\n",
    "# Créer une boucle pour tracer un graphique pour chaque caractéristique\n",
    "for c in caracteristiques:\n",
    "    plt.figure(figsize=(8, 6))\n",
    "    plt.title('Caractéristique commune : ' + c)\n",
    "    plt.xlabel('Cluster')\n",
    "    plt.ylabel('Moyenne')\n",
    "    plt.bar(df_means.index, df_means[c])\n",
    "    plt.show()"
   ]
  },
  {
   "cell_type": "code",
   "execution_count": 70,
   "id": "b89dbd24-ee00-4f15-bfd0-3516f4e15c2c",
   "metadata": {},
   "outputs": [
    {
     "data": {
      "image/png": "[encoded data removed]",
      "text/plain": [
       "<Figure size 432x288 with 1 Axes>"
      ]
     },
     "metadata": {
      "needs_background": "light"
     },
     "output_type": "display_data"
    }
   ],
   "source": [
    "import matplotlib.pyplot as plt\n",
    "\n",
    "genre_counts = df1_clusters['Genre'].value_counts()\n",
    "plt.bar(genre_counts.index, genre_counts.values)\n",
    "plt.xlabel('Genre')\n",
    "plt.ylabel('Nombre de clients')\n",
    "plt.show()"
   ]
  },
  {
   "cell_type": "code",
   "execution_count": 71,
   "id": "b904bcd5-9ed3-4ffb-8c11-b0aa220d6f0c",
   "metadata": {},
   "outputs": [
    {
     "data": {
      "image/png": "[encoded data removed]",
      "text/plain": [
       "<Figure size 432x288 with 1 Axes>"
      ]
     },
     "metadata": {
      "needs_background": "light"
     },
     "output_type": "display_data"
    }
   ],
   "source": [
    "import seaborn as sns\n",
    "\n",
    "sns.boxplot(x=df1_clusters['Âge'])\n",
    "plt.xlabel('Âge')\n",
    "plt.show()"
   ]
  },
  {
   "cell_type": "code",
   "execution_count": 73,
   "id": "d29b85f6-894f-4c0d-8056-2ec4f1758bb7",
   "metadata": {},
   "outputs": [
    {
     "data": {
      "image/png": "[encoded data removed]",
      "text/plain": [
       "<Figure size 432x288 with 1 Axes>"
      ]
     },
     "metadata": {
      "needs_background": "light"
     },
     "output_type": "display_data"
    }
   ],
   "source": [
    "plt.scatter(x=df1_clusters['Revenu_annuel'], y=df1_clusters['Score_depenses'])\n",
    "plt.xlabel('Revenu_annuel')\n",
    "plt.ylabel('Score_depenses')\n",
    "plt.show()"
   ]
  },
  {
   "cell_type": "code",
   "execution_count": 74,
   "id": "7fa5d59c-92f0-4b31-aa06-0ee3be51c753",
   "metadata": {},
   "outputs": [
    {
     "data": {
      "image/png": "[encoded data removed]",
      "text/plain": [
       "<Figure size 432x288 with 1 Axes>"
      ]
     },
     "metadata": {
      "needs_background": "light"
     },
     "output_type": "display_data"
    }
   ],
   "source": [
    "plt.hist(df1_clusters['Experience_travail'], bins=10)\n",
    "plt.xlabel('Experience_travail')\n",
    "plt.ylabel('Nombre de clients')\n",
    "plt.show()"
   ]
  },
  {
   "cell_type": "code",
   "execution_count": 79,
   "id": "8c0720fc-d1f5-4470-a719-da82fec0cf93",
   "metadata": {},
   "outputs": [
    {
     "data": {
      "text/html": [
       "<div>\n",
       "<style scoped>\n",
       "    .dataframe tbody tr th:only-of-type {\n",
       "        vertical-align: middle;\n",
       "    }\n",
       "\n",
       "    .dataframe tbody tr th {\n",
       "        vertical-align: top;\n",
       "    }\n",
       "\n",
       "    .dataframe thead th {\n",
       "        text-align: right;\n",
       "    }\n",
       "</style>\n",
       "<table border=\"1\" class=\"dataframe\">\n",
       "  <thead>\n",
       "    <tr style=\"text-align: right;\">\n",
       "      <th></th>\n",
       "      <th>Genre</th>\n",
       "      <th>Âge</th>\n",
       "      <th>Revenu_annuel</th>\n",
       "      <th>Score_depenses</th>\n",
       "      <th>Profession</th>\n",
       "      <th>Experience_travail</th>\n",
       "      <th>Taille_famille</th>\n",
       "      <th>cluster</th>\n",
       "    </tr>\n",
       "  </thead>\n",
       "  <tbody>\n",
       "    <tr>\n",
       "      <th>0</th>\n",
       "      <td>Male</td>\n",
       "      <td>19</td>\n",
       "      <td>8439.03120</td>\n",
       "      <td>39</td>\n",
       "      <td>Healthcare</td>\n",
       "      <td>1</td>\n",
       "      <td>4</td>\n",
       "      <td>4</td>\n",
       "    </tr>\n",
       "    <tr>\n",
       "      <th>1</th>\n",
       "      <td>Male</td>\n",
       "      <td>21</td>\n",
       "      <td>19691.07280</td>\n",
       "      <td>81</td>\n",
       "      <td>Engineer</td>\n",
       "      <td>3</td>\n",
       "      <td>3</td>\n",
       "      <td>4</td>\n",
       "    </tr>\n",
       "    <tr>\n",
       "      <th>2</th>\n",
       "      <td>Female</td>\n",
       "      <td>20</td>\n",
       "      <td>48383.77888</td>\n",
       "      <td>6</td>\n",
       "      <td>Engineer</td>\n",
       "      <td>1</td>\n",
       "      <td>1</td>\n",
       "      <td>1</td>\n",
       "    </tr>\n",
       "    <tr>\n",
       "      <th>3</th>\n",
       "      <td>Female</td>\n",
       "      <td>23</td>\n",
       "      <td>33193.52272</td>\n",
       "      <td>77</td>\n",
       "      <td>Lawyer</td>\n",
       "      <td>0</td>\n",
       "      <td>2</td>\n",
       "      <td>2</td>\n",
       "    </tr>\n",
       "    <tr>\n",
       "      <th>4</th>\n",
       "      <td>Female</td>\n",
       "      <td>31</td>\n",
       "      <td>21378.87904</td>\n",
       "      <td>40</td>\n",
       "      <td>Entertainment</td>\n",
       "      <td>2</td>\n",
       "      <td>6</td>\n",
       "      <td>4</td>\n",
       "    </tr>\n",
       "  </tbody>\n",
       "</table>\n",
       "</div>"
      ],
      "text/plain": [
       "    Genre  Âge  Revenu_annuel  Score_depenses     Profession  \\\n",
       "0    Male   19     8439.03120              39     Healthcare   \n",
       "1    Male   21    19691.07280              81       Engineer   \n",
       "2  Female   20    48383.77888               6       Engineer   \n",
       "3  Female   23    33193.52272              77         Lawyer   \n",
       "4  Female   31    21378.87904              40  Entertainment   \n",
       "\n",
       "   Experience_travail  Taille_famille  cluster  \n",
       "0                   1               4        4  \n",
       "1                   3               3        4  \n",
       "2                   1               1        1  \n",
       "3                   0               2        2  \n",
       "4                   2               6        4  "
      ]
     },
     "execution_count": 79,
     "metadata": {},
     "output_type": "execute_result"
    }
   ],
   "source": [
    "df1_clusters.head()"
   ]
  },
  {
   "cell_type": "code",
   "execution_count": 81,
   "id": "38d65829-0073-477e-9b2e-305cf7b7dc21",
   "metadata": {},
   "outputs": [
    {
     "name": "stderr",
     "output_type": "stream",
     "text": [
      "/var/folders/dc/3kctpvrd2zlg0cw49lyshw3w0000gn/T/ipykernel_57824/696530303.py:1: FutureWarning: Indexing with multiple keys (implicitly converted to a tuple of keys) will be deprecated, use a list instead.\n",
      "  moyenne_clusters = df_clusters.groupby('ID_Client')['Âge','Revenu_annuel', 'Score_depenses', 'Experience_travail', 'Taille_famille', 'cluster'].mean()\n"
     ]
    },
    {
     "data": {
      "text/html": [
       "<div>\n",
       "<style scoped>\n",
       "    .dataframe tbody tr th:only-of-type {\n",
       "        vertical-align: middle;\n",
       "    }\n",
       "\n",
       "    .dataframe tbody tr th {\n",
       "        vertical-align: top;\n",
       "    }\n",
       "\n",
       "    .dataframe thead th {\n",
       "        text-align: right;\n",
       "    }\n",
       "</style>\n",
       "<table border=\"1\" class=\"dataframe\">\n",
       "  <thead>\n",
       "    <tr style=\"text-align: right;\">\n",
       "      <th></th>\n",
       "      <th>Âge</th>\n",
       "      <th>Revenu_annuel</th>\n",
       "      <th>Score_depenses</th>\n",
       "      <th>Experience_travail</th>\n",
       "      <th>Taille_famille</th>\n",
       "      <th>cluster</th>\n",
       "    </tr>\n",
       "    <tr>\n",
       "      <th>ID_Client</th>\n",
       "      <th></th>\n",
       "      <th></th>\n",
       "      <th></th>\n",
       "      <th></th>\n",
       "      <th></th>\n",
       "      <th></th>\n",
       "    </tr>\n",
       "  </thead>\n",
       "  <tbody>\n",
       "    <tr>\n",
       "      <th>1</th>\n",
       "      <td>19.0</td>\n",
       "      <td>8439.03120</td>\n",
       "      <td>39.0</td>\n",
       "      <td>1.0</td>\n",
       "      <td>4.0</td>\n",
       "      <td>4.0</td>\n",
       "    </tr>\n",
       "    <tr>\n",
       "      <th>2</th>\n",
       "      <td>21.0</td>\n",
       "      <td>19691.07280</td>\n",
       "      <td>81.0</td>\n",
       "      <td>3.0</td>\n",
       "      <td>3.0</td>\n",
       "      <td>4.0</td>\n",
       "    </tr>\n",
       "    <tr>\n",
       "      <th>3</th>\n",
       "      <td>20.0</td>\n",
       "      <td>48383.77888</td>\n",
       "      <td>6.0</td>\n",
       "      <td>1.0</td>\n",
       "      <td>1.0</td>\n",
       "      <td>1.0</td>\n",
       "    </tr>\n",
       "    <tr>\n",
       "      <th>4</th>\n",
       "      <td>23.0</td>\n",
       "      <td>33193.52272</td>\n",
       "      <td>77.0</td>\n",
       "      <td>0.0</td>\n",
       "      <td>2.0</td>\n",
       "      <td>2.0</td>\n",
       "    </tr>\n",
       "    <tr>\n",
       "      <th>5</th>\n",
       "      <td>31.0</td>\n",
       "      <td>21378.87904</td>\n",
       "      <td>40.0</td>\n",
       "      <td>2.0</td>\n",
       "      <td>6.0</td>\n",
       "      <td>4.0</td>\n",
       "    </tr>\n",
       "  </tbody>\n",
       "</table>\n",
       "</div>"
      ],
      "text/plain": [
       "            Âge  Revenu_annuel  Score_depenses  Experience_travail  \\\n",
       "ID_Client                                                            \n",
       "1          19.0     8439.03120            39.0                 1.0   \n",
       "2          21.0    19691.07280            81.0                 3.0   \n",
       "3          20.0    48383.77888             6.0                 1.0   \n",
       "4          23.0    33193.52272            77.0                 0.0   \n",
       "5          31.0    21378.87904            40.0                 2.0   \n",
       "\n",
       "           Taille_famille  cluster  \n",
       "ID_Client                           \n",
       "1                     4.0      4.0  \n",
       "2                     3.0      4.0  \n",
       "3                     1.0      1.0  \n",
       "4                     2.0      2.0  \n",
       "5                     6.0      4.0  "
      ]
     },
     "execution_count": 81,
     "metadata": {},
     "output_type": "execute_result"
    }
   ],
   "source": [
    "#calculer les moyennes de chaque colonne numérique (à l'exception de la colonne ID_Client)\n",
    "moyenne_clusters = df_clusters.groupby('ID_Client')['Âge','Revenu_annuel', 'Score_depenses', 'Experience_travail', 'Taille_famille', 'cluster'].mean()\n",
    "moyenne_clusters.head()"
   ]
  },
  {
   "cell_type": "code",
   "execution_count": 99,
   "id": "56b6af75-a4d2-4033-8c44-c06f8c9fc9d3",
   "metadata": {},
   "outputs": [],
   "source": [
    "#moyenne_clusters.to_csv('TS_moyenne_clusters.csv',index=True)"
   ]
  },
  {
   "cell_type": "code",
   "execution_count": 102,
   "id": "93e0fe54-1b5b-4a76-a3fb-59cb67f5d40d",
   "metadata": {},
   "outputs": [
    {
     "data": {
      "text/html": [
       "<div>\n",
       "<style scoped>\n",
       "    .dataframe tbody tr th:only-of-type {\n",
       "        vertical-align: middle;\n",
       "    }\n",
       "\n",
       "    .dataframe tbody tr th {\n",
       "        vertical-align: top;\n",
       "    }\n",
       "\n",
       "    .dataframe thead th {\n",
       "        text-align: right;\n",
       "    }\n",
       "</style>\n",
       "<table border=\"1\" class=\"dataframe\">\n",
       "  <thead>\n",
       "    <tr style=\"text-align: right;\">\n",
       "      <th></th>\n",
       "      <th>ID_Client</th>\n",
       "      <th>Genre</th>\n",
       "      <th>Profession</th>\n",
       "    </tr>\n",
       "  </thead>\n",
       "  <tbody>\n",
       "    <tr>\n",
       "      <th>0</th>\n",
       "      <td>1</td>\n",
       "      <td>Male</td>\n",
       "      <td>Healthcare</td>\n",
       "    </tr>\n",
       "    <tr>\n",
       "      <th>1</th>\n",
       "      <td>2</td>\n",
       "      <td>Male</td>\n",
       "      <td>Engineer</td>\n",
       "    </tr>\n",
       "    <tr>\n",
       "      <th>2</th>\n",
       "      <td>3</td>\n",
       "      <td>Female</td>\n",
       "      <td>Engineer</td>\n",
       "    </tr>\n",
       "    <tr>\n",
       "      <th>3</th>\n",
       "      <td>4</td>\n",
       "      <td>Female</td>\n",
       "      <td>Lawyer</td>\n",
       "    </tr>\n",
       "    <tr>\n",
       "      <th>4</th>\n",
       "      <td>5</td>\n",
       "      <td>Female</td>\n",
       "      <td>Entertainment</td>\n",
       "    </tr>\n",
       "  </tbody>\n",
       "</table>\n",
       "</div>"
      ],
      "text/plain": [
       "   ID_Client   Genre     Profession\n",
       "0          1    Male     Healthcare\n",
       "1          2    Male       Engineer\n",
       "2          3  Female       Engineer\n",
       "3          4  Female         Lawyer\n",
       "4          5  Female  Entertainment"
      ]
     },
     "execution_count": 102,
     "metadata": {},
     "output_type": "execute_result"
    }
   ],
   "source": [
    "#créer une nouvelle DataFrame avec des colonnes d'une DataFrame existante\n",
    "\n",
    "dfsans = df_clusters[['ID_Client', 'Genre', 'Profession']]\n",
    "dfsans.head()"
   ]
  },
  {
   "cell_type": "code",
   "execution_count": 104,
   "id": "cd339aea-d390-46cb-9115-dc81b6f55e4a",
   "metadata": {},
   "outputs": [],
   "source": [
    "dfsans.to_csv('TS_dfsans.csv',index=False)"
   ]
  },
  {
   "cell_type": "code",
   "execution_count": null,
   "id": "45a66f68-9c85-495c-b9d2-1501e3945cf6",
   "metadata": {},
   "outputs": [],
   "source": []
  }
 ],
 "metadata": {
  "kernelspec": {
   "display_name": "Python 3 (ipykernel)",
   "language": "python",
   "name": "python3"
  },
  "language_info": {
   "codemirror_mode": {
    "name": "ipython",
    "version": 3
   },
   "file_extension": ".py",
   "mimetype": "text/x-python",
   "name": "python",
   "nbconvert_exporter": "python",
   "pygments_lexer": "ipython3",
   "version": "3.9.12"
  }
 },
 "nbformat": 4,
 "nbformat_minor": 5
}
